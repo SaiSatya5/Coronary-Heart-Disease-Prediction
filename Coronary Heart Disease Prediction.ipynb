{
 "cells": [
  {
   "cell_type": "markdown",
   "id": "3bb0e148-ff85-4fd8-8d76-3c970906eacd",
   "metadata": {},
   "source": [
    "# Coronary Heart Disease Prediction "
   ]
  },
  {
   "cell_type": "code",
   "execution_count": 1,
   "id": "65eecd5e-6dbf-4ac4-a9ba-5cdff9d98620",
   "metadata": {},
   "outputs": [
    {
     "data": {
      "text/plain": [
       "\"About the dataset:\\n\\nThe dataset is publically available on the Kaggle website, and it is from an \\nongoing ongoing cardiovascular study on residents of the town of Framingham, \\nMassachusetts. The classification goal is to predict whether the patient \\nhas 10-year risk of future coronary heart disease (CHD).\\nThe dataset provides the patients’ information. It includes over 4,240\\nrecords and 15 attributes.\\n\\nAttributes:\\n\\nsex: male(1) or female(0);(Nominal)\\n\\nage: age of the patient;(Continuous - Although the recorded ages have been \\ntruncated to whole numbers, the concept of age is continuous)\\n\\ncurrentSmoker: whether or not the patient is a current smoker (Nominal)\\n\\ncigsPerDay: the number of cigarettes that the person smoked on average \\nin one day.(can be considered continuous as one can have any number of cigarretts, even half a cigarette.)\\n\\nBPMeds: whether or not the patient was on blood pressure medication (Nominal)\\n\\nprevalentStroke: whether or not the patient had previously had a stroke\\n(Nominal)\\n\\nprevalentHyp: whether or not the patient was hypertensive (Nominal)\\n\\ndiabetes: whether or not the patient had diabetes (Nominal)\\n\\ntotChol: total cholesterol level (Continuous)\\n\\nsysBP: systolic blood pressure (Continuous)\\n\\ndiaBP: diastolic blood pressure (Continuous)\\n\\nBMI: Body Mass Index (Continuous)\\n\\nheartRate: heart rate (Continuous - In medical research, variables such as \\nheart rate though in fact discrete, yet are considered continuous because \\nof large number of possible values.)\\n\\nglucose: glucose level (Continuous)\\n\\n10 year risk of coronary heart disease CHD (binary: “1”, means “Yes”, “0” \\nmeans “No”) - Target Variable\\n\\nObjective: Build a classification model that predicts heart disease in a \\nsubject. \\n(note the target column to predict is 'TenYearCHD' where CHD = Coronary \\nheart disease) \""
      ]
     },
     "execution_count": 1,
     "metadata": {},
     "output_type": "execute_result"
    }
   ],
   "source": [
    "# heart disease prediction  framingham data\n",
    "'''About the dataset:\n",
    "\n",
    "The dataset is publically available on the Kaggle website, and it is from an \n",
    "ongoing ongoing cardiovascular study on residents of the town of Framingham, \n",
    "Massachusetts. The classification goal is to predict whether the patient \n",
    "has 10-year risk of future coronary heart disease (CHD).\n",
    "The dataset provides the patients’ information. It includes over 4,240\n",
    "records and 15 attributes.\n",
    "\n",
    "Attributes:\n",
    "\n",
    "sex: male(1) or female(0);(Nominal)\n",
    "\n",
    "age: age of the patient;(Continuous - Although the recorded ages have been \n",
    "truncated to whole numbers, the concept of age is continuous)\n",
    "\n",
    "currentSmoker: whether or not the patient is a current smoker (Nominal)\n",
    "\n",
    "cigsPerDay: the number of cigarettes that the person smoked on average \n",
    "in one day.(can be considered continuous as one can have any number of cigarretts, even half a cigarette.)\n",
    "\n",
    "BPMeds: whether or not the patient was on blood pressure medication (Nominal)\n",
    "\n",
    "prevalentStroke: whether or not the patient had previously had a stroke\n",
    "(Nominal)\n",
    "\n",
    "prevalentHyp: whether or not the patient was hypertensive (Nominal)\n",
    "\n",
    "diabetes: whether or not the patient had diabetes (Nominal)\n",
    "\n",
    "totChol: total cholesterol level (Continuous)\n",
    "\n",
    "sysBP: systolic blood pressure (Continuous)\n",
    "\n",
    "diaBP: diastolic blood pressure (Continuous)\n",
    "\n",
    "BMI: Body Mass Index (Continuous)\n",
    "\n",
    "heartRate: heart rate (Continuous - In medical research, variables such as \n",
    "heart rate though in fact discrete, yet are considered continuous because \n",
    "of large number of possible values.)\n",
    "\n",
    "glucose: glucose level (Continuous)\n",
    "\n",
    "10 year risk of coronary heart disease CHD (binary: “1”, means “Yes”, “0” \n",
    "means “No”) - Target Variable\n",
    "\n",
    "Objective: Build a classification model that predicts heart disease in a \n",
    "subject. \n",
    "(note the target column to predict is 'TenYearCHD' where CHD = Coronary \n",
    "heart disease) '''"
   ]
  },
  {
   "cell_type": "code",
   "execution_count": 2,
   "id": "09c78227",
   "metadata": {},
   "outputs": [],
   "source": [
    "#Please do the following steps: \n",
    "#Read the file and display columns.\n",
    "#Handle missing values\n",
    "#exploratory analysts and describe your observations.\n",
    "#Select columns that will be probably important to predict heart disease.\n",
    "#If you remove columns explain why you removed those.\n",
    "#Create training and testing sets (use 80% of the data for the training and\n",
    "#reminder for testing).\n",
    "#Build a machine learning model to predict TenYearCHD\n",
    "#Evaluate the model ()\n",
    "#Conclude your findings (Model which is giving best score )"
   ]
  },
  {
   "cell_type": "code",
   "execution_count": 4,
   "id": "d76a8901",
   "metadata": {},
   "outputs": [
    {
     "data": {
      "text/html": [
       "<div>\n",
       "<style scoped>\n",
       "    .dataframe tbody tr th:only-of-type {\n",
       "        vertical-align: middle;\n",
       "    }\n",
       "\n",
       "    .dataframe tbody tr th {\n",
       "        vertical-align: top;\n",
       "    }\n",
       "\n",
       "    .dataframe thead th {\n",
       "        text-align: right;\n",
       "    }\n",
       "</style>\n",
       "<table border=\"1\" class=\"dataframe\">\n",
       "  <thead>\n",
       "    <tr style=\"text-align: right;\">\n",
       "      <th></th>\n",
       "      <th>male</th>\n",
       "      <th>age</th>\n",
       "      <th>education</th>\n",
       "      <th>currentSmoker</th>\n",
       "      <th>cigsPerDay</th>\n",
       "      <th>BPMeds</th>\n",
       "      <th>prevalentStroke</th>\n",
       "      <th>prevalentHyp</th>\n",
       "      <th>diabetes</th>\n",
       "      <th>totChol</th>\n",
       "      <th>sysBP</th>\n",
       "      <th>diaBP</th>\n",
       "      <th>BMI</th>\n",
       "      <th>heartRate</th>\n",
       "      <th>glucose</th>\n",
       "      <th>TenYearCHD</th>\n",
       "    </tr>\n",
       "  </thead>\n",
       "  <tbody>\n",
       "    <tr>\n",
       "      <th>0</th>\n",
       "      <td>1</td>\n",
       "      <td>39</td>\n",
       "      <td>4.0</td>\n",
       "      <td>0</td>\n",
       "      <td>0.0</td>\n",
       "      <td>0.0</td>\n",
       "      <td>0</td>\n",
       "      <td>0</td>\n",
       "      <td>0</td>\n",
       "      <td>195.0</td>\n",
       "      <td>106.0</td>\n",
       "      <td>70.0</td>\n",
       "      <td>26.97</td>\n",
       "      <td>80.0</td>\n",
       "      <td>77.0</td>\n",
       "      <td>0</td>\n",
       "    </tr>\n",
       "    <tr>\n",
       "      <th>1</th>\n",
       "      <td>0</td>\n",
       "      <td>46</td>\n",
       "      <td>2.0</td>\n",
       "      <td>0</td>\n",
       "      <td>0.0</td>\n",
       "      <td>0.0</td>\n",
       "      <td>0</td>\n",
       "      <td>0</td>\n",
       "      <td>0</td>\n",
       "      <td>250.0</td>\n",
       "      <td>121.0</td>\n",
       "      <td>81.0</td>\n",
       "      <td>28.73</td>\n",
       "      <td>95.0</td>\n",
       "      <td>76.0</td>\n",
       "      <td>0</td>\n",
       "    </tr>\n",
       "    <tr>\n",
       "      <th>2</th>\n",
       "      <td>1</td>\n",
       "      <td>48</td>\n",
       "      <td>1.0</td>\n",
       "      <td>1</td>\n",
       "      <td>20.0</td>\n",
       "      <td>0.0</td>\n",
       "      <td>0</td>\n",
       "      <td>0</td>\n",
       "      <td>0</td>\n",
       "      <td>245.0</td>\n",
       "      <td>127.5</td>\n",
       "      <td>80.0</td>\n",
       "      <td>25.34</td>\n",
       "      <td>75.0</td>\n",
       "      <td>70.0</td>\n",
       "      <td>0</td>\n",
       "    </tr>\n",
       "    <tr>\n",
       "      <th>3</th>\n",
       "      <td>0</td>\n",
       "      <td>61</td>\n",
       "      <td>3.0</td>\n",
       "      <td>1</td>\n",
       "      <td>30.0</td>\n",
       "      <td>0.0</td>\n",
       "      <td>0</td>\n",
       "      <td>1</td>\n",
       "      <td>0</td>\n",
       "      <td>225.0</td>\n",
       "      <td>150.0</td>\n",
       "      <td>95.0</td>\n",
       "      <td>28.58</td>\n",
       "      <td>65.0</td>\n",
       "      <td>103.0</td>\n",
       "      <td>1</td>\n",
       "    </tr>\n",
       "    <tr>\n",
       "      <th>4</th>\n",
       "      <td>0</td>\n",
       "      <td>46</td>\n",
       "      <td>3.0</td>\n",
       "      <td>1</td>\n",
       "      <td>23.0</td>\n",
       "      <td>0.0</td>\n",
       "      <td>0</td>\n",
       "      <td>0</td>\n",
       "      <td>0</td>\n",
       "      <td>285.0</td>\n",
       "      <td>130.0</td>\n",
       "      <td>84.0</td>\n",
       "      <td>23.10</td>\n",
       "      <td>85.0</td>\n",
       "      <td>85.0</td>\n",
       "      <td>0</td>\n",
       "    </tr>\n",
       "    <tr>\n",
       "      <th>...</th>\n",
       "      <td>...</td>\n",
       "      <td>...</td>\n",
       "      <td>...</td>\n",
       "      <td>...</td>\n",
       "      <td>...</td>\n",
       "      <td>...</td>\n",
       "      <td>...</td>\n",
       "      <td>...</td>\n",
       "      <td>...</td>\n",
       "      <td>...</td>\n",
       "      <td>...</td>\n",
       "      <td>...</td>\n",
       "      <td>...</td>\n",
       "      <td>...</td>\n",
       "      <td>...</td>\n",
       "      <td>...</td>\n",
       "    </tr>\n",
       "    <tr>\n",
       "      <th>4235</th>\n",
       "      <td>0</td>\n",
       "      <td>48</td>\n",
       "      <td>2.0</td>\n",
       "      <td>1</td>\n",
       "      <td>20.0</td>\n",
       "      <td>NaN</td>\n",
       "      <td>0</td>\n",
       "      <td>0</td>\n",
       "      <td>0</td>\n",
       "      <td>248.0</td>\n",
       "      <td>131.0</td>\n",
       "      <td>72.0</td>\n",
       "      <td>22.00</td>\n",
       "      <td>84.0</td>\n",
       "      <td>86.0</td>\n",
       "      <td>0</td>\n",
       "    </tr>\n",
       "    <tr>\n",
       "      <th>4236</th>\n",
       "      <td>0</td>\n",
       "      <td>44</td>\n",
       "      <td>1.0</td>\n",
       "      <td>1</td>\n",
       "      <td>15.0</td>\n",
       "      <td>0.0</td>\n",
       "      <td>0</td>\n",
       "      <td>0</td>\n",
       "      <td>0</td>\n",
       "      <td>210.0</td>\n",
       "      <td>126.5</td>\n",
       "      <td>87.0</td>\n",
       "      <td>19.16</td>\n",
       "      <td>86.0</td>\n",
       "      <td>NaN</td>\n",
       "      <td>0</td>\n",
       "    </tr>\n",
       "    <tr>\n",
       "      <th>4237</th>\n",
       "      <td>0</td>\n",
       "      <td>52</td>\n",
       "      <td>2.0</td>\n",
       "      <td>0</td>\n",
       "      <td>0.0</td>\n",
       "      <td>0.0</td>\n",
       "      <td>0</td>\n",
       "      <td>0</td>\n",
       "      <td>0</td>\n",
       "      <td>269.0</td>\n",
       "      <td>133.5</td>\n",
       "      <td>83.0</td>\n",
       "      <td>21.47</td>\n",
       "      <td>80.0</td>\n",
       "      <td>107.0</td>\n",
       "      <td>0</td>\n",
       "    </tr>\n",
       "    <tr>\n",
       "      <th>4238</th>\n",
       "      <td>1</td>\n",
       "      <td>40</td>\n",
       "      <td>3.0</td>\n",
       "      <td>0</td>\n",
       "      <td>0.0</td>\n",
       "      <td>0.0</td>\n",
       "      <td>0</td>\n",
       "      <td>1</td>\n",
       "      <td>0</td>\n",
       "      <td>185.0</td>\n",
       "      <td>141.0</td>\n",
       "      <td>98.0</td>\n",
       "      <td>25.60</td>\n",
       "      <td>67.0</td>\n",
       "      <td>72.0</td>\n",
       "      <td>0</td>\n",
       "    </tr>\n",
       "    <tr>\n",
       "      <th>4239</th>\n",
       "      <td>0</td>\n",
       "      <td>39</td>\n",
       "      <td>3.0</td>\n",
       "      <td>1</td>\n",
       "      <td>30.0</td>\n",
       "      <td>0.0</td>\n",
       "      <td>0</td>\n",
       "      <td>0</td>\n",
       "      <td>0</td>\n",
       "      <td>196.0</td>\n",
       "      <td>133.0</td>\n",
       "      <td>86.0</td>\n",
       "      <td>20.91</td>\n",
       "      <td>85.0</td>\n",
       "      <td>80.0</td>\n",
       "      <td>0</td>\n",
       "    </tr>\n",
       "  </tbody>\n",
       "</table>\n",
       "<p>4240 rows × 16 columns</p>\n",
       "</div>"
      ],
      "text/plain": [
       "      male  age  education  currentSmoker  cigsPerDay  BPMeds  \\\n",
       "0        1   39        4.0              0         0.0     0.0   \n",
       "1        0   46        2.0              0         0.0     0.0   \n",
       "2        1   48        1.0              1        20.0     0.0   \n",
       "3        0   61        3.0              1        30.0     0.0   \n",
       "4        0   46        3.0              1        23.0     0.0   \n",
       "...    ...  ...        ...            ...         ...     ...   \n",
       "4235     0   48        2.0              1        20.0     NaN   \n",
       "4236     0   44        1.0              1        15.0     0.0   \n",
       "4237     0   52        2.0              0         0.0     0.0   \n",
       "4238     1   40        3.0              0         0.0     0.0   \n",
       "4239     0   39        3.0              1        30.0     0.0   \n",
       "\n",
       "      prevalentStroke  prevalentHyp  diabetes  totChol  sysBP  diaBP    BMI  \\\n",
       "0                   0             0         0    195.0  106.0   70.0  26.97   \n",
       "1                   0             0         0    250.0  121.0   81.0  28.73   \n",
       "2                   0             0         0    245.0  127.5   80.0  25.34   \n",
       "3                   0             1         0    225.0  150.0   95.0  28.58   \n",
       "4                   0             0         0    285.0  130.0   84.0  23.10   \n",
       "...               ...           ...       ...      ...    ...    ...    ...   \n",
       "4235                0             0         0    248.0  131.0   72.0  22.00   \n",
       "4236                0             0         0    210.0  126.5   87.0  19.16   \n",
       "4237                0             0         0    269.0  133.5   83.0  21.47   \n",
       "4238                0             1         0    185.0  141.0   98.0  25.60   \n",
       "4239                0             0         0    196.0  133.0   86.0  20.91   \n",
       "\n",
       "      heartRate  glucose  TenYearCHD  \n",
       "0          80.0     77.0           0  \n",
       "1          95.0     76.0           0  \n",
       "2          75.0     70.0           0  \n",
       "3          65.0    103.0           1  \n",
       "4          85.0     85.0           0  \n",
       "...         ...      ...         ...  \n",
       "4235       84.0     86.0           0  \n",
       "4236       86.0      NaN           0  \n",
       "4237       80.0    107.0           0  \n",
       "4238       67.0     72.0           0  \n",
       "4239       85.0     80.0           0  \n",
       "\n",
       "[4240 rows x 16 columns]"
      ]
     },
     "execution_count": 4,
     "metadata": {},
     "output_type": "execute_result"
    }
   ],
   "source": [
    "# laod the dataset\n",
    "import pandas as pd\n",
    "df=pd.read_csv(\"framingham.csv\")\n",
    "df"
   ]
  },
  {
   "cell_type": "code",
   "execution_count": 5,
   "id": "70cebd88",
   "metadata": {},
   "outputs": [
    {
     "data": {
      "text/plain": [
       "Index(['male', 'age', 'education', 'currentSmoker', 'cigsPerDay', 'BPMeds',\n",
       "       'prevalentStroke', 'prevalentHyp', 'diabetes', 'totChol', 'sysBP',\n",
       "       'diaBP', 'BMI', 'heartRate', 'glucose', 'TenYearCHD'],\n",
       "      dtype='object')"
      ]
     },
     "execution_count": 5,
     "metadata": {},
     "output_type": "execute_result"
    }
   ],
   "source": [
    "df.columns"
   ]
  },
  {
   "cell_type": "code",
   "execution_count": 6,
   "id": "0b42290d",
   "metadata": {},
   "outputs": [
    {
     "data": {
      "text/plain": [
       "(4240, 16)"
      ]
     },
     "execution_count": 6,
     "metadata": {},
     "output_type": "execute_result"
    }
   ],
   "source": [
    "df.shape"
   ]
  },
  {
   "cell_type": "code",
   "execution_count": 7,
   "id": "c2bda1dd",
   "metadata": {},
   "outputs": [
    {
     "data": {
      "text/plain": [
       "TenYearCHD\n",
       "0    3596\n",
       "1     644\n",
       "Name: count, dtype: int64"
      ]
     },
     "execution_count": 7,
     "metadata": {},
     "output_type": "execute_result"
    }
   ],
   "source": [
    "df['TenYearCHD'].value_counts()"
   ]
  },
  {
   "cell_type": "code",
   "execution_count": 8,
   "id": "fdba77cd",
   "metadata": {},
   "outputs": [
    {
     "data": {
      "text/plain": [
       "<Axes: xlabel='TenYearCHD', ylabel='count'>"
      ]
     },
     "execution_count": 8,
     "metadata": {},
     "output_type": "execute_result"
    },
    {
     "data": {
      "image/png": "[encoded data removed]",
      "text/plain": [
       "<Figure size 640x480 with 1 Axes>"
      ]
     },
     "metadata": {},
     "output_type": "display_data"
    }
   ],
   "source": [
    "# display this info in a bar chart\n",
    "import seaborn as sns\n",
    "sns.countplot(x=df['TenYearCHD'])"
   ]
  },
  {
   "cell_type": "code",
   "execution_count": 9,
   "id": "ece27b4f",
   "metadata": {},
   "outputs": [
    {
     "data": {
      "image/png": "[encoded data removed]",
      "text/plain": [
       "<Figure size 640x480 with 1 Axes>"
      ]
     },
     "metadata": {},
     "output_type": "display_data"
    }
   ],
   "source": [
    "import matplotlib.pyplot as plt\n",
    "plt.pie(df['TenYearCHD'].value_counts(),\\\n",
    "        labels=['No','Yes'],autopct=\"%0.2f%%\")\n",
    "plt.show()"
   ]
  },
  {
   "cell_type": "code",
   "execution_count": 10,
   "id": "325f188c",
   "metadata": {},
   "outputs": [],
   "source": [
    "# drop education column from dataset as it is not important for the \n",
    "#output\n",
    "df.drop(columns=['education'],inplace=True)"
   ]
  },
  {
   "cell_type": "code",
   "execution_count": 11,
   "id": "4b6df891",
   "metadata": {},
   "outputs": [
    {
     "data": {
      "text/plain": [
       "15"
      ]
     },
     "execution_count": 11,
     "metadata": {},
     "output_type": "execute_result"
    }
   ],
   "source": [
    "len(df.columns)"
   ]
  },
  {
   "cell_type": "code",
   "execution_count": 12,
   "id": "8975103b",
   "metadata": {},
   "outputs": [],
   "source": [
    "# how many people are having no diabetes but suffered from heart disease"
   ]
  },
  {
   "cell_type": "code",
   "execution_count": 13,
   "id": "62c7de8a",
   "metadata": {},
   "outputs": [
    {
     "data": {
      "text/plain": [
       "604"
      ]
     },
     "execution_count": 13,
     "metadata": {},
     "output_type": "execute_result"
    }
   ],
   "source": [
    "len(df.loc[(df['diabetes']==0)&(df['TenYearCHD']==1)])"
   ]
  },
  {
   "cell_type": "code",
   "execution_count": 14,
   "id": "ecc0edce",
   "metadata": {},
   "outputs": [],
   "source": [
    "# display the percentage of male and female suffered from heart disease\n",
    "# which one is higher???"
   ]
  },
  {
   "cell_type": "code",
   "execution_count": 15,
   "id": "2459a51e",
   "metadata": {},
   "outputs": [
    {
     "data": {
      "text/plain": [
       "male\n",
       "0    2420\n",
       "1    1820\n",
       "Name: count, dtype: int64"
      ]
     },
     "execution_count": 15,
     "metadata": {},
     "output_type": "execute_result"
    }
   ],
   "source": [
    "df['male'].value_counts()"
   ]
  },
  {
   "cell_type": "code",
   "execution_count": 16,
   "id": "bcc1c06c",
   "metadata": {},
   "outputs": [
    {
     "data": {
      "text/plain": [
       "343"
      ]
     },
     "execution_count": 16,
     "metadata": {},
     "output_type": "execute_result"
    }
   ],
   "source": [
    "# find how many male and female suffered form heart disease\n",
    "a=len(df.loc[(df['male']==1)&(df['TenYearCHD']==1)])\n",
    "a"
   ]
  },
  {
   "cell_type": "code",
   "execution_count": 17,
   "id": "27963ca8",
   "metadata": {},
   "outputs": [
    {
     "data": {
      "text/plain": [
       "301"
      ]
     },
     "execution_count": 17,
     "metadata": {},
     "output_type": "execute_result"
    }
   ],
   "source": [
    "b=len(df.loc[(df['male']==0)&(df['TenYearCHD']==1)])\n",
    "b"
   ]
  },
  {
   "cell_type": "code",
   "execution_count": 18,
   "id": "26d16cce",
   "metadata": {},
   "outputs": [
    {
     "data": {
      "text/plain": [
       "0.18846153846153846"
      ]
     },
     "execution_count": 18,
     "metadata": {},
     "output_type": "execute_result"
    }
   ],
   "source": [
    "343/1820 "
   ]
  },
  {
   "cell_type": "code",
   "execution_count": 19,
   "id": "36c7c064",
   "metadata": {},
   "outputs": [
    {
     "data": {
      "text/plain": [
       "0.12541666666666668"
      ]
     },
     "execution_count": 19,
     "metadata": {},
     "output_type": "execute_result"
    }
   ],
   "source": [
    "301/2400"
   ]
  },
  {
   "cell_type": "code",
   "execution_count": 20,
   "id": "dfcb6962",
   "metadata": {},
   "outputs": [
    {
     "data": {
      "text/html": [
       "<div>\n",
       "<style scoped>\n",
       "    .dataframe tbody tr th:only-of-type {\n",
       "        vertical-align: middle;\n",
       "    }\n",
       "\n",
       "    .dataframe tbody tr th {\n",
       "        vertical-align: top;\n",
       "    }\n",
       "\n",
       "    .dataframe thead th {\n",
       "        text-align: right;\n",
       "    }\n",
       "</style>\n",
       "<table border=\"1\" class=\"dataframe\">\n",
       "  <thead>\n",
       "    <tr style=\"text-align: right;\">\n",
       "      <th></th>\n",
       "      <th>male</th>\n",
       "      <th>age</th>\n",
       "      <th>currentSmoker</th>\n",
       "      <th>cigsPerDay</th>\n",
       "      <th>BPMeds</th>\n",
       "      <th>prevalentStroke</th>\n",
       "      <th>prevalentHyp</th>\n",
       "      <th>diabetes</th>\n",
       "      <th>totChol</th>\n",
       "      <th>sysBP</th>\n",
       "      <th>diaBP</th>\n",
       "      <th>BMI</th>\n",
       "      <th>heartRate</th>\n",
       "      <th>glucose</th>\n",
       "      <th>TenYearCHD</th>\n",
       "    </tr>\n",
       "  </thead>\n",
       "  <tbody>\n",
       "    <tr>\n",
       "      <th>0</th>\n",
       "      <td>1</td>\n",
       "      <td>39</td>\n",
       "      <td>0</td>\n",
       "      <td>0.0</td>\n",
       "      <td>0.0</td>\n",
       "      <td>0</td>\n",
       "      <td>0</td>\n",
       "      <td>0</td>\n",
       "      <td>195.0</td>\n",
       "      <td>106.0</td>\n",
       "      <td>70.0</td>\n",
       "      <td>26.97</td>\n",
       "      <td>80.0</td>\n",
       "      <td>77.0</td>\n",
       "      <td>0</td>\n",
       "    </tr>\n",
       "    <tr>\n",
       "      <th>1</th>\n",
       "      <td>0</td>\n",
       "      <td>46</td>\n",
       "      <td>0</td>\n",
       "      <td>0.0</td>\n",
       "      <td>0.0</td>\n",
       "      <td>0</td>\n",
       "      <td>0</td>\n",
       "      <td>0</td>\n",
       "      <td>250.0</td>\n",
       "      <td>121.0</td>\n",
       "      <td>81.0</td>\n",
       "      <td>28.73</td>\n",
       "      <td>95.0</td>\n",
       "      <td>76.0</td>\n",
       "      <td>0</td>\n",
       "    </tr>\n",
       "    <tr>\n",
       "      <th>2</th>\n",
       "      <td>1</td>\n",
       "      <td>48</td>\n",
       "      <td>1</td>\n",
       "      <td>20.0</td>\n",
       "      <td>0.0</td>\n",
       "      <td>0</td>\n",
       "      <td>0</td>\n",
       "      <td>0</td>\n",
       "      <td>245.0</td>\n",
       "      <td>127.5</td>\n",
       "      <td>80.0</td>\n",
       "      <td>25.34</td>\n",
       "      <td>75.0</td>\n",
       "      <td>70.0</td>\n",
       "      <td>0</td>\n",
       "    </tr>\n",
       "    <tr>\n",
       "      <th>3</th>\n",
       "      <td>0</td>\n",
       "      <td>61</td>\n",
       "      <td>1</td>\n",
       "      <td>30.0</td>\n",
       "      <td>0.0</td>\n",
       "      <td>0</td>\n",
       "      <td>1</td>\n",
       "      <td>0</td>\n",
       "      <td>225.0</td>\n",
       "      <td>150.0</td>\n",
       "      <td>95.0</td>\n",
       "      <td>28.58</td>\n",
       "      <td>65.0</td>\n",
       "      <td>103.0</td>\n",
       "      <td>1</td>\n",
       "    </tr>\n",
       "    <tr>\n",
       "      <th>4</th>\n",
       "      <td>0</td>\n",
       "      <td>46</td>\n",
       "      <td>1</td>\n",
       "      <td>23.0</td>\n",
       "      <td>0.0</td>\n",
       "      <td>0</td>\n",
       "      <td>0</td>\n",
       "      <td>0</td>\n",
       "      <td>285.0</td>\n",
       "      <td>130.0</td>\n",
       "      <td>84.0</td>\n",
       "      <td>23.10</td>\n",
       "      <td>85.0</td>\n",
       "      <td>85.0</td>\n",
       "      <td>0</td>\n",
       "    </tr>\n",
       "    <tr>\n",
       "      <th>...</th>\n",
       "      <td>...</td>\n",
       "      <td>...</td>\n",
       "      <td>...</td>\n",
       "      <td>...</td>\n",
       "      <td>...</td>\n",
       "      <td>...</td>\n",
       "      <td>...</td>\n",
       "      <td>...</td>\n",
       "      <td>...</td>\n",
       "      <td>...</td>\n",
       "      <td>...</td>\n",
       "      <td>...</td>\n",
       "      <td>...</td>\n",
       "      <td>...</td>\n",
       "      <td>...</td>\n",
       "    </tr>\n",
       "    <tr>\n",
       "      <th>4235</th>\n",
       "      <td>0</td>\n",
       "      <td>48</td>\n",
       "      <td>1</td>\n",
       "      <td>20.0</td>\n",
       "      <td>NaN</td>\n",
       "      <td>0</td>\n",
       "      <td>0</td>\n",
       "      <td>0</td>\n",
       "      <td>248.0</td>\n",
       "      <td>131.0</td>\n",
       "      <td>72.0</td>\n",
       "      <td>22.00</td>\n",
       "      <td>84.0</td>\n",
       "      <td>86.0</td>\n",
       "      <td>0</td>\n",
       "    </tr>\n",
       "    <tr>\n",
       "      <th>4236</th>\n",
       "      <td>0</td>\n",
       "      <td>44</td>\n",
       "      <td>1</td>\n",
       "      <td>15.0</td>\n",
       "      <td>0.0</td>\n",
       "      <td>0</td>\n",
       "      <td>0</td>\n",
       "      <td>0</td>\n",
       "      <td>210.0</td>\n",
       "      <td>126.5</td>\n",
       "      <td>87.0</td>\n",
       "      <td>19.16</td>\n",
       "      <td>86.0</td>\n",
       "      <td>NaN</td>\n",
       "      <td>0</td>\n",
       "    </tr>\n",
       "    <tr>\n",
       "      <th>4237</th>\n",
       "      <td>0</td>\n",
       "      <td>52</td>\n",
       "      <td>0</td>\n",
       "      <td>0.0</td>\n",
       "      <td>0.0</td>\n",
       "      <td>0</td>\n",
       "      <td>0</td>\n",
       "      <td>0</td>\n",
       "      <td>269.0</td>\n",
       "      <td>133.5</td>\n",
       "      <td>83.0</td>\n",
       "      <td>21.47</td>\n",
       "      <td>80.0</td>\n",
       "      <td>107.0</td>\n",
       "      <td>0</td>\n",
       "    </tr>\n",
       "    <tr>\n",
       "      <th>4238</th>\n",
       "      <td>1</td>\n",
       "      <td>40</td>\n",
       "      <td>0</td>\n",
       "      <td>0.0</td>\n",
       "      <td>0.0</td>\n",
       "      <td>0</td>\n",
       "      <td>1</td>\n",
       "      <td>0</td>\n",
       "      <td>185.0</td>\n",
       "      <td>141.0</td>\n",
       "      <td>98.0</td>\n",
       "      <td>25.60</td>\n",
       "      <td>67.0</td>\n",
       "      <td>72.0</td>\n",
       "      <td>0</td>\n",
       "    </tr>\n",
       "    <tr>\n",
       "      <th>4239</th>\n",
       "      <td>0</td>\n",
       "      <td>39</td>\n",
       "      <td>1</td>\n",
       "      <td>30.0</td>\n",
       "      <td>0.0</td>\n",
       "      <td>0</td>\n",
       "      <td>0</td>\n",
       "      <td>0</td>\n",
       "      <td>196.0</td>\n",
       "      <td>133.0</td>\n",
       "      <td>86.0</td>\n",
       "      <td>20.91</td>\n",
       "      <td>85.0</td>\n",
       "      <td>80.0</td>\n",
       "      <td>0</td>\n",
       "    </tr>\n",
       "  </tbody>\n",
       "</table>\n",
       "<p>4240 rows × 15 columns</p>\n",
       "</div>"
      ],
      "text/plain": [
       "      male  age  currentSmoker  cigsPerDay  BPMeds  prevalentStroke  \\\n",
       "0        1   39              0         0.0     0.0                0   \n",
       "1        0   46              0         0.0     0.0                0   \n",
       "2        1   48              1        20.0     0.0                0   \n",
       "3        0   61              1        30.0     0.0                0   \n",
       "4        0   46              1        23.0     0.0                0   \n",
       "...    ...  ...            ...         ...     ...              ...   \n",
       "4235     0   48              1        20.0     NaN                0   \n",
       "4236     0   44              1        15.0     0.0                0   \n",
       "4237     0   52              0         0.0     0.0                0   \n",
       "4238     1   40              0         0.0     0.0                0   \n",
       "4239     0   39              1        30.0     0.0                0   \n",
       "\n",
       "      prevalentHyp  diabetes  totChol  sysBP  diaBP    BMI  heartRate  \\\n",
       "0                0         0    195.0  106.0   70.0  26.97       80.0   \n",
       "1                0         0    250.0  121.0   81.0  28.73       95.0   \n",
       "2                0         0    245.0  127.5   80.0  25.34       75.0   \n",
       "3                1         0    225.0  150.0   95.0  28.58       65.0   \n",
       "4                0         0    285.0  130.0   84.0  23.10       85.0   \n",
       "...            ...       ...      ...    ...    ...    ...        ...   \n",
       "4235             0         0    248.0  131.0   72.0  22.00       84.0   \n",
       "4236             0         0    210.0  126.5   87.0  19.16       86.0   \n",
       "4237             0         0    269.0  133.5   83.0  21.47       80.0   \n",
       "4238             1         0    185.0  141.0   98.0  25.60       67.0   \n",
       "4239             0         0    196.0  133.0   86.0  20.91       85.0   \n",
       "\n",
       "      glucose  TenYearCHD  \n",
       "0        77.0           0  \n",
       "1        76.0           0  \n",
       "2        70.0           0  \n",
       "3       103.0           1  \n",
       "4        85.0           0  \n",
       "...       ...         ...  \n",
       "4235     86.0           0  \n",
       "4236      NaN           0  \n",
       "4237    107.0           0  \n",
       "4238     72.0           0  \n",
       "4239     80.0           0  \n",
       "\n",
       "[4240 rows x 15 columns]"
      ]
     },
     "execution_count": 20,
     "metadata": {},
     "output_type": "execute_result"
    }
   ],
   "source": [
    "df"
   ]
  },
  {
   "cell_type": "code",
   "execution_count": 21,
   "id": "acce09da",
   "metadata": {},
   "outputs": [
    {
     "data": {
      "text/plain": [
       "38"
      ]
     },
     "execution_count": 21,
     "metadata": {},
     "output_type": "execute_result"
    }
   ],
   "source": [
    "# how many people bellow age 40 are suffered from heart disease\n",
    "len(df.loc[(df['age']<=40)&(df['TenYearCHD'])])"
   ]
  },
  {
   "cell_type": "code",
   "execution_count": 22,
   "id": "057593fe",
   "metadata": {},
   "outputs": [
    {
     "data": {
      "text/plain": [
       "male                 0\n",
       "age                  0\n",
       "currentSmoker        0\n",
       "cigsPerDay          29\n",
       "BPMeds              53\n",
       "prevalentStroke      0\n",
       "prevalentHyp         0\n",
       "diabetes             0\n",
       "totChol             50\n",
       "sysBP                0\n",
       "diaBP                0\n",
       "BMI                 19\n",
       "heartRate            1\n",
       "glucose            388\n",
       "TenYearCHD           0\n",
       "dtype: int64"
      ]
     },
     "execution_count": 22,
     "metadata": {},
     "output_type": "execute_result"
    }
   ],
   "source": [
    "#  handle the missing values if any ????\n",
    "df.isnull().sum()"
   ]
  },
  {
   "cell_type": "code",
   "execution_count": 23,
   "id": "addb0d6a",
   "metadata": {},
   "outputs": [
    {
     "name": "stderr",
     "output_type": "stream",
     "text": [
      "C:\\Users\\HP\\AppData\\Local\\Temp\\ipykernel_7400\\51537817.py:2: FutureWarning: A value is trying to be set on a copy of a DataFrame or Series through chained assignment using an inplace method.\n",
      "The behavior will change in pandas 3.0. This inplace method will never work because the intermediate object on which we are setting values always behaves as a copy.\n",
      "\n",
      "For example, when doing 'df[col].method(value, inplace=True)', try using 'df.method({col: value}, inplace=True)' or df[col] = df[col].method(value) instead, to perform the operation inplace on the original object.\n",
      "\n",
      "\n",
      "  df['cigsPerDay'].replace(np.nan,df['cigsPerDay'].mean(),inplace=True)\n"
     ]
    }
   ],
   "source": [
    "import numpy as np\n",
    "df['cigsPerDay'].replace(np.nan,df['cigsPerDay'].mean(),inplace=True)"
   ]
  },
  {
   "cell_type": "code",
   "execution_count": 24,
   "id": "2f158062",
   "metadata": {},
   "outputs": [
    {
     "data": {
      "text/plain": [
       "male                 0\n",
       "age                  0\n",
       "currentSmoker        0\n",
       "cigsPerDay           0\n",
       "BPMeds              53\n",
       "prevalentStroke      0\n",
       "prevalentHyp         0\n",
       "diabetes             0\n",
       "totChol             50\n",
       "sysBP                0\n",
       "diaBP                0\n",
       "BMI                 19\n",
       "heartRate            1\n",
       "glucose            388\n",
       "TenYearCHD           0\n",
       "dtype: int64"
      ]
     },
     "execution_count": 24,
     "metadata": {},
     "output_type": "execute_result"
    }
   ],
   "source": [
    "df.isnull().sum()"
   ]
  },
  {
   "cell_type": "code",
   "execution_count": 25,
   "id": "7ec866fb",
   "metadata": {},
   "outputs": [],
   "source": [
    "df.dropna(inplace=True)# "
   ]
  },
  {
   "cell_type": "code",
   "execution_count": 26,
   "id": "a86bd8d0",
   "metadata": {},
   "outputs": [
    {
     "data": {
      "text/plain": [
       "male               0\n",
       "age                0\n",
       "currentSmoker      0\n",
       "cigsPerDay         0\n",
       "BPMeds             0\n",
       "prevalentStroke    0\n",
       "prevalentHyp       0\n",
       "diabetes           0\n",
       "totChol            0\n",
       "sysBP              0\n",
       "diaBP              0\n",
       "BMI                0\n",
       "heartRate          0\n",
       "glucose            0\n",
       "TenYearCHD         0\n",
       "dtype: int64"
      ]
     },
     "execution_count": 26,
     "metadata": {},
     "output_type": "execute_result"
    }
   ],
   "source": [
    "df.isnull().sum()"
   ]
  },
  {
   "cell_type": "code",
   "execution_count": 27,
   "id": "a3c2dd08",
   "metadata": {},
   "outputs": [
    {
     "data": {
      "text/plain": [
       "(3776, 15)"
      ]
     },
     "execution_count": 27,
     "metadata": {},
     "output_type": "execute_result"
    }
   ],
   "source": [
    "df.shape"
   ]
  },
  {
   "cell_type": "code",
   "execution_count": 28,
   "id": "0a5a072b",
   "metadata": {},
   "outputs": [
    {
     "data": {
      "text/html": [
       "<div>\n",
       "<style scoped>\n",
       "    .dataframe tbody tr th:only-of-type {\n",
       "        vertical-align: middle;\n",
       "    }\n",
       "\n",
       "    .dataframe tbody tr th {\n",
       "        vertical-align: top;\n",
       "    }\n",
       "\n",
       "    .dataframe thead th {\n",
       "        text-align: right;\n",
       "    }\n",
       "</style>\n",
       "<table border=\"1\" class=\"dataframe\">\n",
       "  <thead>\n",
       "    <tr style=\"text-align: right;\">\n",
       "      <th></th>\n",
       "      <th>male</th>\n",
       "      <th>age</th>\n",
       "      <th>currentSmoker</th>\n",
       "      <th>cigsPerDay</th>\n",
       "      <th>BPMeds</th>\n",
       "      <th>prevalentStroke</th>\n",
       "      <th>prevalentHyp</th>\n",
       "      <th>diabetes</th>\n",
       "      <th>totChol</th>\n",
       "      <th>sysBP</th>\n",
       "      <th>diaBP</th>\n",
       "      <th>BMI</th>\n",
       "      <th>heartRate</th>\n",
       "      <th>glucose</th>\n",
       "      <th>TenYearCHD</th>\n",
       "    </tr>\n",
       "  </thead>\n",
       "  <tbody>\n",
       "    <tr>\n",
       "      <th>male</th>\n",
       "      <td>1.000000</td>\n",
       "      <td>-0.024875</td>\n",
       "      <td>0.202304</td>\n",
       "      <td>0.324788</td>\n",
       "      <td>-0.052255</td>\n",
       "      <td>-0.002539</td>\n",
       "      <td>0.001331</td>\n",
       "      <td>0.011716</td>\n",
       "      <td>-0.069263</td>\n",
       "      <td>-0.046657</td>\n",
       "      <td>0.051634</td>\n",
       "      <td>0.074322</td>\n",
       "      <td>-0.116272</td>\n",
       "      <td>0.004864</td>\n",
       "      <td>0.095450</td>\n",
       "    </tr>\n",
       "    <tr>\n",
       "      <th>age</th>\n",
       "      <td>-0.024875</td>\n",
       "      <td>1.000000</td>\n",
       "      <td>-0.210550</td>\n",
       "      <td>-0.188431</td>\n",
       "      <td>0.131479</td>\n",
       "      <td>0.049945</td>\n",
       "      <td>0.304949</td>\n",
       "      <td>0.109153</td>\n",
       "      <td>0.261426</td>\n",
       "      <td>0.387411</td>\n",
       "      <td>0.204525</td>\n",
       "      <td>0.135920</td>\n",
       "      <td>-0.004244</td>\n",
       "      <td>0.119709</td>\n",
       "      <td>0.230708</td>\n",
       "    </tr>\n",
       "    <tr>\n",
       "      <th>currentSmoker</th>\n",
       "      <td>0.202304</td>\n",
       "      <td>-0.210550</td>\n",
       "      <td>1.000000</td>\n",
       "      <td>0.770590</td>\n",
       "      <td>-0.052827</td>\n",
       "      <td>-0.037949</td>\n",
       "      <td>-0.105636</td>\n",
       "      <td>-0.046277</td>\n",
       "      <td>-0.048146</td>\n",
       "      <td>-0.132477</td>\n",
       "      <td>-0.112807</td>\n",
       "      <td>-0.163742</td>\n",
       "      <td>0.056419</td>\n",
       "      <td>-0.052820</td>\n",
       "      <td>0.020232</td>\n",
       "    </tr>\n",
       "    <tr>\n",
       "      <th>cigsPerDay</th>\n",
       "      <td>0.324788</td>\n",
       "      <td>-0.188431</td>\n",
       "      <td>0.770590</td>\n",
       "      <td>1.000000</td>\n",
       "      <td>-0.046620</td>\n",
       "      <td>-0.035713</td>\n",
       "      <td>-0.067274</td>\n",
       "      <td>-0.039432</td>\n",
       "      <td>-0.030471</td>\n",
       "      <td>-0.092114</td>\n",
       "      <td>-0.056016</td>\n",
       "      <td>-0.090253</td>\n",
       "      <td>0.066904</td>\n",
       "      <td>-0.055012</td>\n",
       "      <td>0.055807</td>\n",
       "    </tr>\n",
       "    <tr>\n",
       "      <th>BPMeds</th>\n",
       "      <td>-0.052255</td>\n",
       "      <td>0.131479</td>\n",
       "      <td>-0.052827</td>\n",
       "      <td>-0.046620</td>\n",
       "      <td>1.000000</td>\n",
       "      <td>0.111675</td>\n",
       "      <td>0.262347</td>\n",
       "      <td>0.056521</td>\n",
       "      <td>0.088991</td>\n",
       "      <td>0.268890</td>\n",
       "      <td>0.198510</td>\n",
       "      <td>0.104697</td>\n",
       "      <td>0.009850</td>\n",
       "      <td>0.052211</td>\n",
       "      <td>0.084795</td>\n",
       "    </tr>\n",
       "    <tr>\n",
       "      <th>prevalentStroke</th>\n",
       "      <td>-0.002539</td>\n",
       "      <td>0.049945</td>\n",
       "      <td>-0.037949</td>\n",
       "      <td>-0.035713</td>\n",
       "      <td>0.111675</td>\n",
       "      <td>1.000000</td>\n",
       "      <td>0.065056</td>\n",
       "      <td>0.009505</td>\n",
       "      <td>0.012140</td>\n",
       "      <td>0.060296</td>\n",
       "      <td>0.054966</td>\n",
       "      <td>0.035416</td>\n",
       "      <td>-0.016742</td>\n",
       "      <td>0.015693</td>\n",
       "      <td>0.047686</td>\n",
       "    </tr>\n",
       "    <tr>\n",
       "      <th>prevalentHyp</th>\n",
       "      <td>0.001331</td>\n",
       "      <td>0.304949</td>\n",
       "      <td>-0.105636</td>\n",
       "      <td>-0.067274</td>\n",
       "      <td>0.262347</td>\n",
       "      <td>0.065056</td>\n",
       "      <td>1.000000</td>\n",
       "      <td>0.081956</td>\n",
       "      <td>0.163261</td>\n",
       "      <td>0.698787</td>\n",
       "      <td>0.618107</td>\n",
       "      <td>0.304496</td>\n",
       "      <td>0.142861</td>\n",
       "      <td>0.084549</td>\n",
       "      <td>0.178770</td>\n",
       "    </tr>\n",
       "    <tr>\n",
       "      <th>diabetes</th>\n",
       "      <td>0.011716</td>\n",
       "      <td>0.109153</td>\n",
       "      <td>-0.046277</td>\n",
       "      <td>-0.039432</td>\n",
       "      <td>0.056521</td>\n",
       "      <td>0.009505</td>\n",
       "      <td>0.081956</td>\n",
       "      <td>1.000000</td>\n",
       "      <td>0.047016</td>\n",
       "      <td>0.104173</td>\n",
       "      <td>0.051497</td>\n",
       "      <td>0.092712</td>\n",
       "      <td>0.062776</td>\n",
       "      <td>0.614987</td>\n",
       "      <td>0.093248</td>\n",
       "    </tr>\n",
       "    <tr>\n",
       "      <th>totChol</th>\n",
       "      <td>-0.069263</td>\n",
       "      <td>0.261426</td>\n",
       "      <td>-0.048146</td>\n",
       "      <td>-0.030471</td>\n",
       "      <td>0.088991</td>\n",
       "      <td>0.012140</td>\n",
       "      <td>0.163261</td>\n",
       "      <td>0.047016</td>\n",
       "      <td>1.000000</td>\n",
       "      <td>0.215534</td>\n",
       "      <td>0.169258</td>\n",
       "      <td>0.118852</td>\n",
       "      <td>0.097332</td>\n",
       "      <td>0.046933</td>\n",
       "      <td>0.088400</td>\n",
       "    </tr>\n",
       "    <tr>\n",
       "      <th>sysBP</th>\n",
       "      <td>-0.046657</td>\n",
       "      <td>0.387411</td>\n",
       "      <td>-0.132477</td>\n",
       "      <td>-0.092114</td>\n",
       "      <td>0.268890</td>\n",
       "      <td>0.060296</td>\n",
       "      <td>0.698787</td>\n",
       "      <td>0.104173</td>\n",
       "      <td>0.215534</td>\n",
       "      <td>1.000000</td>\n",
       "      <td>0.786270</td>\n",
       "      <td>0.331655</td>\n",
       "      <td>0.181791</td>\n",
       "      <td>0.131729</td>\n",
       "      <td>0.220386</td>\n",
       "    </tr>\n",
       "    <tr>\n",
       "      <th>diaBP</th>\n",
       "      <td>0.051634</td>\n",
       "      <td>0.204525</td>\n",
       "      <td>-0.112807</td>\n",
       "      <td>-0.056016</td>\n",
       "      <td>0.198510</td>\n",
       "      <td>0.054966</td>\n",
       "      <td>0.618107</td>\n",
       "      <td>0.051497</td>\n",
       "      <td>0.169258</td>\n",
       "      <td>0.786270</td>\n",
       "      <td>1.000000</td>\n",
       "      <td>0.385546</td>\n",
       "      <td>0.176395</td>\n",
       "      <td>0.060502</td>\n",
       "      <td>0.149621</td>\n",
       "    </tr>\n",
       "    <tr>\n",
       "      <th>BMI</th>\n",
       "      <td>0.074322</td>\n",
       "      <td>0.135920</td>\n",
       "      <td>-0.163742</td>\n",
       "      <td>-0.090253</td>\n",
       "      <td>0.104697</td>\n",
       "      <td>0.035416</td>\n",
       "      <td>0.304496</td>\n",
       "      <td>0.092712</td>\n",
       "      <td>0.118852</td>\n",
       "      <td>0.331655</td>\n",
       "      <td>0.385546</td>\n",
       "      <td>1.000000</td>\n",
       "      <td>0.072739</td>\n",
       "      <td>0.086876</td>\n",
       "      <td>0.086832</td>\n",
       "    </tr>\n",
       "    <tr>\n",
       "      <th>heartRate</th>\n",
       "      <td>-0.116272</td>\n",
       "      <td>-0.004244</td>\n",
       "      <td>0.056419</td>\n",
       "      <td>0.066904</td>\n",
       "      <td>0.009850</td>\n",
       "      <td>-0.016742</td>\n",
       "      <td>0.142861</td>\n",
       "      <td>0.062776</td>\n",
       "      <td>0.097332</td>\n",
       "      <td>0.181791</td>\n",
       "      <td>0.176395</td>\n",
       "      <td>0.072739</td>\n",
       "      <td>1.000000</td>\n",
       "      <td>0.099481</td>\n",
       "      <td>0.023045</td>\n",
       "    </tr>\n",
       "    <tr>\n",
       "      <th>glucose</th>\n",
       "      <td>0.004864</td>\n",
       "      <td>0.119709</td>\n",
       "      <td>-0.052820</td>\n",
       "      <td>-0.055012</td>\n",
       "      <td>0.052211</td>\n",
       "      <td>0.015693</td>\n",
       "      <td>0.084549</td>\n",
       "      <td>0.614987</td>\n",
       "      <td>0.046933</td>\n",
       "      <td>0.131729</td>\n",
       "      <td>0.060502</td>\n",
       "      <td>0.086876</td>\n",
       "      <td>0.099481</td>\n",
       "      <td>1.000000</td>\n",
       "      <td>0.123004</td>\n",
       "    </tr>\n",
       "    <tr>\n",
       "      <th>TenYearCHD</th>\n",
       "      <td>0.095450</td>\n",
       "      <td>0.230708</td>\n",
       "      <td>0.020232</td>\n",
       "      <td>0.055807</td>\n",
       "      <td>0.084795</td>\n",
       "      <td>0.047686</td>\n",
       "      <td>0.178770</td>\n",
       "      <td>0.093248</td>\n",
       "      <td>0.088400</td>\n",
       "      <td>0.220386</td>\n",
       "      <td>0.149621</td>\n",
       "      <td>0.086832</td>\n",
       "      <td>0.023045</td>\n",
       "      <td>0.123004</td>\n",
       "      <td>1.000000</td>\n",
       "    </tr>\n",
       "  </tbody>\n",
       "</table>\n",
       "</div>"
      ],
      "text/plain": [
       "                     male       age  currentSmoker  cigsPerDay    BPMeds  \\\n",
       "male             1.000000 -0.024875       0.202304    0.324788 -0.052255   \n",
       "age             -0.024875  1.000000      -0.210550   -0.188431  0.131479   \n",
       "currentSmoker    0.202304 -0.210550       1.000000    0.770590 -0.052827   \n",
       "cigsPerDay       0.324788 -0.188431       0.770590    1.000000 -0.046620   \n",
       "BPMeds          -0.052255  0.131479      -0.052827   -0.046620  1.000000   \n",
       "prevalentStroke -0.002539  0.049945      -0.037949   -0.035713  0.111675   \n",
       "prevalentHyp     0.001331  0.304949      -0.105636   -0.067274  0.262347   \n",
       "diabetes         0.011716  0.109153      -0.046277   -0.039432  0.056521   \n",
       "totChol         -0.069263  0.261426      -0.048146   -0.030471  0.088991   \n",
       "sysBP           -0.046657  0.387411      -0.132477   -0.092114  0.268890   \n",
       "diaBP            0.051634  0.204525      -0.112807   -0.056016  0.198510   \n",
       "BMI              0.074322  0.135920      -0.163742   -0.090253  0.104697   \n",
       "heartRate       -0.116272 -0.004244       0.056419    0.066904  0.009850   \n",
       "glucose          0.004864  0.119709      -0.052820   -0.055012  0.052211   \n",
       "TenYearCHD       0.095450  0.230708       0.020232    0.055807  0.084795   \n",
       "\n",
       "                 prevalentStroke  prevalentHyp  diabetes   totChol     sysBP  \\\n",
       "male                   -0.002539      0.001331  0.011716 -0.069263 -0.046657   \n",
       "age                     0.049945      0.304949  0.109153  0.261426  0.387411   \n",
       "currentSmoker          -0.037949     -0.105636 -0.046277 -0.048146 -0.132477   \n",
       "cigsPerDay             -0.035713     -0.067274 -0.039432 -0.030471 -0.092114   \n",
       "BPMeds                  0.111675      0.262347  0.056521  0.088991  0.268890   \n",
       "prevalentStroke         1.000000      0.065056  0.009505  0.012140  0.060296   \n",
       "prevalentHyp            0.065056      1.000000  0.081956  0.163261  0.698787   \n",
       "diabetes                0.009505      0.081956  1.000000  0.047016  0.104173   \n",
       "totChol                 0.012140      0.163261  0.047016  1.000000  0.215534   \n",
       "sysBP                   0.060296      0.698787  0.104173  0.215534  1.000000   \n",
       "diaBP                   0.054966      0.618107  0.051497  0.169258  0.786270   \n",
       "BMI                     0.035416      0.304496  0.092712  0.118852  0.331655   \n",
       "heartRate              -0.016742      0.142861  0.062776  0.097332  0.181791   \n",
       "glucose                 0.015693      0.084549  0.614987  0.046933  0.131729   \n",
       "TenYearCHD              0.047686      0.178770  0.093248  0.088400  0.220386   \n",
       "\n",
       "                    diaBP       BMI  heartRate   glucose  TenYearCHD  \n",
       "male             0.051634  0.074322  -0.116272  0.004864    0.095450  \n",
       "age              0.204525  0.135920  -0.004244  0.119709    0.230708  \n",
       "currentSmoker   -0.112807 -0.163742   0.056419 -0.052820    0.020232  \n",
       "cigsPerDay      -0.056016 -0.090253   0.066904 -0.055012    0.055807  \n",
       "BPMeds           0.198510  0.104697   0.009850  0.052211    0.084795  \n",
       "prevalentStroke  0.054966  0.035416  -0.016742  0.015693    0.047686  \n",
       "prevalentHyp     0.618107  0.304496   0.142861  0.084549    0.178770  \n",
       "diabetes         0.051497  0.092712   0.062776  0.614987    0.093248  \n",
       "totChol          0.169258  0.118852   0.097332  0.046933    0.088400  \n",
       "sysBP            0.786270  0.331655   0.181791  0.131729    0.220386  \n",
       "diaBP            1.000000  0.385546   0.176395  0.060502    0.149621  \n",
       "BMI              0.385546  1.000000   0.072739  0.086876    0.086832  \n",
       "heartRate        0.176395  0.072739   1.000000  0.099481    0.023045  \n",
       "glucose          0.060502  0.086876   0.099481  1.000000    0.123004  \n",
       "TenYearCHD       0.149621  0.086832   0.023045  0.123004    1.000000  "
      ]
     },
     "execution_count": 28,
     "metadata": {},
     "output_type": "execute_result"
    }
   ],
   "source": [
    "# see the corelation  ---\n",
    "df.corr()"
   ]
  },
  {
   "cell_type": "code",
   "execution_count": 29,
   "id": "ba28f000",
   "metadata": {},
   "outputs": [
    {
     "data": {
      "text/plain": [
       "<Axes: >"
      ]
     },
     "execution_count": 29,
     "metadata": {},
     "output_type": "execute_result"
    },
    {
     "data": {
      "image/png": "[encoded data removed]",
      "text/plain": [
       "<Figure size 1500x1000 with 2 Axes>"
      ]
     },
     "metadata": {},
     "output_type": "display_data"
    }
   ],
   "source": [
    "import seaborn as sns\n",
    "import matplotlib.pyplot as plt\n",
    "plt.figure(figsize=(15,10))\n",
    "sns.heatmap(df.corr(),annot=True)"
   ]
  },
  {
   "cell_type": "code",
   "execution_count": 30,
   "id": "2c07da50",
   "metadata": {},
   "outputs": [],
   "source": [
    "#  current smoker and cigs perday are highly corelated so drop one\n",
    "#sysbp and diabp  are highly corelated so drop one"
   ]
  },
  {
   "cell_type": "code",
   "execution_count": 31,
   "id": "299014b5",
   "metadata": {},
   "outputs": [],
   "source": [
    "df.drop(columns=['cigsPerDay','diaBP'],inplace=True)"
   ]
  },
  {
   "cell_type": "code",
   "execution_count": 32,
   "id": "9640b615",
   "metadata": {},
   "outputs": [
    {
     "data": {
      "text/plain": [
       "(3776, 13)"
      ]
     },
     "execution_count": 32,
     "metadata": {},
     "output_type": "execute_result"
    }
   ],
   "source": [
    "df.shape"
   ]
  },
  {
   "cell_type": "code",
   "execution_count": 33,
   "id": "8f8c40bd",
   "metadata": {},
   "outputs": [
    {
     "data": {
      "text/html": [
       "<div>\n",
       "<style scoped>\n",
       "    .dataframe tbody tr th:only-of-type {\n",
       "        vertical-align: middle;\n",
       "    }\n",
       "\n",
       "    .dataframe tbody tr th {\n",
       "        vertical-align: top;\n",
       "    }\n",
       "\n",
       "    .dataframe thead th {\n",
       "        text-align: right;\n",
       "    }\n",
       "</style>\n",
       "<table border=\"1\" class=\"dataframe\">\n",
       "  <thead>\n",
       "    <tr style=\"text-align: right;\">\n",
       "      <th></th>\n",
       "      <th>male</th>\n",
       "      <th>age</th>\n",
       "      <th>currentSmoker</th>\n",
       "      <th>BPMeds</th>\n",
       "      <th>prevalentStroke</th>\n",
       "      <th>prevalentHyp</th>\n",
       "      <th>diabetes</th>\n",
       "      <th>totChol</th>\n",
       "      <th>sysBP</th>\n",
       "      <th>BMI</th>\n",
       "      <th>heartRate</th>\n",
       "      <th>glucose</th>\n",
       "      <th>TenYearCHD</th>\n",
       "    </tr>\n",
       "  </thead>\n",
       "  <tbody>\n",
       "    <tr>\n",
       "      <th>0</th>\n",
       "      <td>1</td>\n",
       "      <td>39</td>\n",
       "      <td>0</td>\n",
       "      <td>0.0</td>\n",
       "      <td>0</td>\n",
       "      <td>0</td>\n",
       "      <td>0</td>\n",
       "      <td>195.0</td>\n",
       "      <td>106.0</td>\n",
       "      <td>26.97</td>\n",
       "      <td>80.0</td>\n",
       "      <td>77.0</td>\n",
       "      <td>0</td>\n",
       "    </tr>\n",
       "    <tr>\n",
       "      <th>1</th>\n",
       "      <td>0</td>\n",
       "      <td>46</td>\n",
       "      <td>0</td>\n",
       "      <td>0.0</td>\n",
       "      <td>0</td>\n",
       "      <td>0</td>\n",
       "      <td>0</td>\n",
       "      <td>250.0</td>\n",
       "      <td>121.0</td>\n",
       "      <td>28.73</td>\n",
       "      <td>95.0</td>\n",
       "      <td>76.0</td>\n",
       "      <td>0</td>\n",
       "    </tr>\n",
       "    <tr>\n",
       "      <th>2</th>\n",
       "      <td>1</td>\n",
       "      <td>48</td>\n",
       "      <td>1</td>\n",
       "      <td>0.0</td>\n",
       "      <td>0</td>\n",
       "      <td>0</td>\n",
       "      <td>0</td>\n",
       "      <td>245.0</td>\n",
       "      <td>127.5</td>\n",
       "      <td>25.34</td>\n",
       "      <td>75.0</td>\n",
       "      <td>70.0</td>\n",
       "      <td>0</td>\n",
       "    </tr>\n",
       "    <tr>\n",
       "      <th>3</th>\n",
       "      <td>0</td>\n",
       "      <td>61</td>\n",
       "      <td>1</td>\n",
       "      <td>0.0</td>\n",
       "      <td>0</td>\n",
       "      <td>1</td>\n",
       "      <td>0</td>\n",
       "      <td>225.0</td>\n",
       "      <td>150.0</td>\n",
       "      <td>28.58</td>\n",
       "      <td>65.0</td>\n",
       "      <td>103.0</td>\n",
       "      <td>1</td>\n",
       "    </tr>\n",
       "    <tr>\n",
       "      <th>4</th>\n",
       "      <td>0</td>\n",
       "      <td>46</td>\n",
       "      <td>1</td>\n",
       "      <td>0.0</td>\n",
       "      <td>0</td>\n",
       "      <td>0</td>\n",
       "      <td>0</td>\n",
       "      <td>285.0</td>\n",
       "      <td>130.0</td>\n",
       "      <td>23.10</td>\n",
       "      <td>85.0</td>\n",
       "      <td>85.0</td>\n",
       "      <td>0</td>\n",
       "    </tr>\n",
       "    <tr>\n",
       "      <th>...</th>\n",
       "      <td>...</td>\n",
       "      <td>...</td>\n",
       "      <td>...</td>\n",
       "      <td>...</td>\n",
       "      <td>...</td>\n",
       "      <td>...</td>\n",
       "      <td>...</td>\n",
       "      <td>...</td>\n",
       "      <td>...</td>\n",
       "      <td>...</td>\n",
       "      <td>...</td>\n",
       "      <td>...</td>\n",
       "      <td>...</td>\n",
       "    </tr>\n",
       "    <tr>\n",
       "      <th>4233</th>\n",
       "      <td>1</td>\n",
       "      <td>50</td>\n",
       "      <td>1</td>\n",
       "      <td>0.0</td>\n",
       "      <td>0</td>\n",
       "      <td>1</td>\n",
       "      <td>0</td>\n",
       "      <td>313.0</td>\n",
       "      <td>179.0</td>\n",
       "      <td>25.97</td>\n",
       "      <td>66.0</td>\n",
       "      <td>86.0</td>\n",
       "      <td>1</td>\n",
       "    </tr>\n",
       "    <tr>\n",
       "      <th>4234</th>\n",
       "      <td>1</td>\n",
       "      <td>51</td>\n",
       "      <td>1</td>\n",
       "      <td>0.0</td>\n",
       "      <td>0</td>\n",
       "      <td>0</td>\n",
       "      <td>0</td>\n",
       "      <td>207.0</td>\n",
       "      <td>126.5</td>\n",
       "      <td>19.71</td>\n",
       "      <td>65.0</td>\n",
       "      <td>68.0</td>\n",
       "      <td>0</td>\n",
       "    </tr>\n",
       "    <tr>\n",
       "      <th>4237</th>\n",
       "      <td>0</td>\n",
       "      <td>52</td>\n",
       "      <td>0</td>\n",
       "      <td>0.0</td>\n",
       "      <td>0</td>\n",
       "      <td>0</td>\n",
       "      <td>0</td>\n",
       "      <td>269.0</td>\n",
       "      <td>133.5</td>\n",
       "      <td>21.47</td>\n",
       "      <td>80.0</td>\n",
       "      <td>107.0</td>\n",
       "      <td>0</td>\n",
       "    </tr>\n",
       "    <tr>\n",
       "      <th>4238</th>\n",
       "      <td>1</td>\n",
       "      <td>40</td>\n",
       "      <td>0</td>\n",
       "      <td>0.0</td>\n",
       "      <td>0</td>\n",
       "      <td>1</td>\n",
       "      <td>0</td>\n",
       "      <td>185.0</td>\n",
       "      <td>141.0</td>\n",
       "      <td>25.60</td>\n",
       "      <td>67.0</td>\n",
       "      <td>72.0</td>\n",
       "      <td>0</td>\n",
       "    </tr>\n",
       "    <tr>\n",
       "      <th>4239</th>\n",
       "      <td>0</td>\n",
       "      <td>39</td>\n",
       "      <td>1</td>\n",
       "      <td>0.0</td>\n",
       "      <td>0</td>\n",
       "      <td>0</td>\n",
       "      <td>0</td>\n",
       "      <td>196.0</td>\n",
       "      <td>133.0</td>\n",
       "      <td>20.91</td>\n",
       "      <td>85.0</td>\n",
       "      <td>80.0</td>\n",
       "      <td>0</td>\n",
       "    </tr>\n",
       "  </tbody>\n",
       "</table>\n",
       "<p>3776 rows × 13 columns</p>\n",
       "</div>"
      ],
      "text/plain": [
       "      male  age  currentSmoker  BPMeds  prevalentStroke  prevalentHyp  \\\n",
       "0        1   39              0     0.0                0             0   \n",
       "1        0   46              0     0.0                0             0   \n",
       "2        1   48              1     0.0                0             0   \n",
       "3        0   61              1     0.0                0             1   \n",
       "4        0   46              1     0.0                0             0   \n",
       "...    ...  ...            ...     ...              ...           ...   \n",
       "4233     1   50              1     0.0                0             1   \n",
       "4234     1   51              1     0.0                0             0   \n",
       "4237     0   52              0     0.0                0             0   \n",
       "4238     1   40              0     0.0                0             1   \n",
       "4239     0   39              1     0.0                0             0   \n",
       "\n",
       "      diabetes  totChol  sysBP    BMI  heartRate  glucose  TenYearCHD  \n",
       "0            0    195.0  106.0  26.97       80.0     77.0           0  \n",
       "1            0    250.0  121.0  28.73       95.0     76.0           0  \n",
       "2            0    245.0  127.5  25.34       75.0     70.0           0  \n",
       "3            0    225.0  150.0  28.58       65.0    103.0           1  \n",
       "4            0    285.0  130.0  23.10       85.0     85.0           0  \n",
       "...        ...      ...    ...    ...        ...      ...         ...  \n",
       "4233         0    313.0  179.0  25.97       66.0     86.0           1  \n",
       "4234         0    207.0  126.5  19.71       65.0     68.0           0  \n",
       "4237         0    269.0  133.5  21.47       80.0    107.0           0  \n",
       "4238         0    185.0  141.0  25.60       67.0     72.0           0  \n",
       "4239         0    196.0  133.0  20.91       85.0     80.0           0  \n",
       "\n",
       "[3776 rows x 13 columns]"
      ]
     },
     "execution_count": 33,
     "metadata": {},
     "output_type": "execute_result"
    }
   ],
   "source": [
    "#drop duplicate rows if any\n",
    "df.drop_duplicates()"
   ]
  },
  {
   "cell_type": "code",
   "execution_count": 34,
   "id": "6d90b9e4",
   "metadata": {},
   "outputs": [],
   "source": [
    "# separate input and output\n",
    "X=df.drop(columns=['TenYearCHD'])\n",
    "Y=df['TenYearCHD']"
   ]
  },
  {
   "cell_type": "code",
   "execution_count": 35,
   "id": "b5fed0cb",
   "metadata": {},
   "outputs": [],
   "source": [
    "# split the data for training and testing\n",
    "from sklearn.model_selection import train_test_split\n",
    "X_train,X_test,Y_train,Y_test=train_test_split(X,Y,test_size=0.2,\\\n",
    "                                               random_state=7)"
   ]
  },
  {
   "cell_type": "code",
   "execution_count": 36,
   "id": "5dfeb2e3",
   "metadata": {},
   "outputs": [
    {
     "data": {
      "text/plain": [
       "array([0, 0, 1, 0, 0, 0, 0, 0, 0, 0, 0, 0, 0, 0, 0, 0, 0, 0, 0, 0, 0, 0,\n",
       "       0, 0, 0, 0, 0, 0, 0, 0, 0, 0, 1, 0, 0, 0, 0, 0, 0, 0, 0, 0, 0, 0,\n",
       "       0, 0, 0, 0, 0, 0, 0, 0, 0, 0, 0, 0, 0, 0, 0, 0, 0, 1, 0, 0, 0, 0,\n",
       "       0, 0, 0, 0, 0, 0, 0, 0, 0, 0, 0, 0, 1, 0, 0, 1, 0, 0, 0, 0, 0, 0,\n",
       "       0, 0, 0, 1, 0, 0, 0, 0, 0, 0, 0, 0, 0, 0, 0, 0, 0, 0, 0, 0, 0, 0,\n",
       "       0, 0, 0, 0, 0, 0, 0, 0, 0, 0, 0, 0, 0, 0, 0, 0, 0, 0, 0, 0, 0, 0,\n",
       "       0, 0, 0, 0, 0, 0, 0, 0, 0, 0, 0, 0, 0, 0, 0, 0, 0, 0, 0, 0, 0, 0,\n",
       "       0, 0, 0, 0, 0, 0, 0, 0, 0, 0, 1, 1, 0, 0, 0, 0, 0, 0, 0, 0, 0, 0,\n",
       "       0, 0, 0, 0, 0, 0, 0, 0, 0, 0, 0, 0, 0, 0, 0, 0, 0, 0, 0, 0, 0, 0,\n",
       "       0, 0, 0, 0, 0, 0, 0, 0, 0, 0, 0, 0, 0, 0, 0, 0, 0, 0, 0, 0, 0, 0,\n",
       "       0, 0, 0, 0, 0, 0, 0, 0, 0, 0, 0, 0, 0, 0, 0, 0, 0, 0, 0, 0, 0, 0,\n",
       "       0, 0, 0, 0, 0, 0, 0, 0, 0, 0, 0, 0, 0, 0, 0, 0, 0, 0, 0, 0, 0, 0,\n",
       "       0, 0, 0, 0, 0, 0, 0, 0, 0, 0, 0, 0, 0, 0, 0, 0, 0, 0, 0, 0, 0, 0,\n",
       "       0, 0, 0, 0, 0, 0, 0, 0, 0, 0, 0, 0, 0, 0, 0, 0, 0, 0, 0, 0, 0, 0,\n",
       "       0, 0, 0, 0, 0, 0, 0, 0, 0, 0, 0, 0, 0, 0, 0, 0, 0, 1, 0, 0, 0, 0,\n",
       "       0, 0, 0, 0, 0, 1, 0, 0, 0, 0, 0, 0, 0, 0, 0, 0, 0, 0, 1, 0, 0, 0,\n",
       "       0, 0, 0, 0, 0, 0, 0, 0, 0, 0, 0, 0, 0, 0, 0, 0, 0, 0, 0, 0, 0, 0,\n",
       "       0, 0, 0, 0, 0, 0, 0, 0, 0, 0, 0, 0, 0, 0, 0, 0, 0, 0, 0, 0, 0, 0,\n",
       "       0, 0, 0, 0, 0, 0, 0, 0, 0, 0, 0, 0, 0, 0, 0, 0, 0, 0, 0, 0, 1, 0,\n",
       "       0, 0, 0, 0, 0, 0, 0, 0, 0, 0, 0, 0, 0, 0, 0, 0, 0, 0, 0, 0, 0, 0,\n",
       "       0, 0, 0, 0, 0, 0, 0, 0, 0, 0, 0, 0, 0, 0, 0, 0, 0, 0, 0, 0, 0, 0,\n",
       "       0, 0, 0, 0, 0, 0, 0, 0, 1, 0, 0, 1, 0, 1, 0, 0, 0, 0, 0, 0, 0, 0,\n",
       "       0, 0, 0, 0, 0, 0, 0, 0, 0, 0, 0, 0, 0, 1, 0, 0, 1, 0, 0, 0, 0, 0,\n",
       "       0, 0, 0, 0, 0, 0, 0, 0, 0, 0, 0, 0, 0, 0, 0, 0, 0, 0, 0, 1, 0, 0,\n",
       "       0, 0, 0, 0, 0, 0, 0, 0, 0, 0, 0, 0, 0, 0, 0, 0, 0, 0, 0, 0, 0, 0,\n",
       "       0, 0, 0, 0, 0, 0, 0, 0, 0, 0, 0, 0, 0, 0, 0, 0, 0, 0, 0, 0, 0, 0,\n",
       "       0, 0, 0, 0, 0, 0, 0, 0, 0, 0, 0, 0, 0, 0, 0, 0, 0, 0, 0, 0, 0, 0,\n",
       "       0, 0, 0, 0, 0, 0, 0, 0, 0, 0, 0, 0, 0, 0, 0, 0, 0, 0, 0, 0, 0, 0,\n",
       "       0, 0, 0, 0, 0, 0, 0, 0, 0, 0, 0, 0, 0, 0, 0, 0, 0, 0, 0, 0, 0, 0,\n",
       "       0, 0, 0, 0, 0, 0, 0, 0, 0, 0, 0, 0, 0, 0, 0, 0, 0, 0, 0, 0, 0, 0,\n",
       "       0, 0, 0, 0, 0, 0, 0, 0, 0, 0, 0, 0, 0, 0, 0, 0, 0, 0, 0, 0, 0, 0,\n",
       "       0, 0, 0, 0, 0, 0, 0, 0, 0, 0, 0, 0, 0, 0, 1, 0, 0, 0, 1, 0, 0, 0,\n",
       "       0, 0, 0, 0, 0, 0, 0, 0, 0, 0, 0, 0, 0, 0, 0, 0, 0, 0, 0, 0, 0, 0,\n",
       "       0, 0, 0, 0, 0, 0, 0, 0, 0, 0, 0, 0, 0, 0, 0, 0, 0, 0, 0, 0, 0, 0,\n",
       "       0, 0, 0, 0, 0, 0, 0, 0], dtype=int64)"
      ]
     },
     "execution_count": 36,
     "metadata": {},
     "output_type": "execute_result"
    }
   ],
   "source": [
    "# create a model \n",
    "from sklearn.ensemble import RandomForestClassifier\n",
    "rf=RandomForestClassifier(random_state=5)\n",
    "#train the model\n",
    "rf.fit(X_train,Y_train)\n",
    "#test the model\n",
    "Y_pred_rf=rf.predict(X_test)\n",
    "Y_pred_rf"
   ]
  },
  {
   "cell_type": "code",
   "execution_count": 37,
   "id": "ff81e4b9",
   "metadata": {},
   "outputs": [
    {
     "data": {
      "text/plain": [
       "(3020, 12)"
      ]
     },
     "execution_count": 37,
     "metadata": {},
     "output_type": "execute_result"
    }
   ],
   "source": [
    "X_train.shape"
   ]
  },
  {
   "cell_type": "code",
   "execution_count": 38,
   "id": "793a8510",
   "metadata": {},
   "outputs": [
    {
     "data": {
      "text/plain": [
       "(756, 12)"
      ]
     },
     "execution_count": 38,
     "metadata": {},
     "output_type": "execute_result"
    }
   ],
   "source": [
    "X_test.shape"
   ]
  },
  {
   "cell_type": "code",
   "execution_count": 39,
   "id": "2d0688d5",
   "metadata": {},
   "outputs": [
    {
     "data": {
      "text/plain": [
       "0.8571428571428571"
      ]
     },
     "execution_count": 39,
     "metadata": {},
     "output_type": "execute_result"
    }
   ],
   "source": [
    "# find accuracy\n",
    "from sklearn.metrics import accuracy_score\n",
    "acc_rf=accuracy_score(Y_test,Y_pred_rf)\n",
    "acc_rf"
   ]
  },
  {
   "cell_type": "code",
   "execution_count": 40,
   "id": "e347af2c",
   "metadata": {},
   "outputs": [],
   "source": [
    "# display the confusion matrix"
   ]
  },
  {
   "cell_type": "code",
   "execution_count": 41,
   "id": "638cdcd0",
   "metadata": {},
   "outputs": [
    {
     "data": {
      "text/plain": [
       "array([[637,   9],\n",
       "       [ 99,  11]], dtype=int64)"
      ]
     },
     "execution_count": 41,
     "metadata": {},
     "output_type": "execute_result"
    }
   ],
   "source": [
    "from sklearn.metrics import confusion_matrix\n",
    "cm=confusion_matrix(Y_test,Y_pred_rf)\n",
    "cm"
   ]
  }
 ],
 "metadata": {
  "kernelspec": {
   "display_name": "Python 3 (ipykernel)",
   "language": "python",
   "name": "python3"
  },
  "language_info": {
   "codemirror_mode": {
    "name": "ipython",
    "version": 3
   },
   "file_extension": ".py",
   "mimetype": "text/x-python",
   "name": "python",
   "nbconvert_exporter": "python",
   "pygments_lexer": "ipython3",
   "version": "3.11.5"
  }
 },
 "nbformat": 4,
 "nbformat_minor": 5
}
